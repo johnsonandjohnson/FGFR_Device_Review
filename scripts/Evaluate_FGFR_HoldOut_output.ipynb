{
 "cells": [
  {
   "cell_type": "code",
   "execution_count": 1,
   "metadata": {},
   "outputs": [
    {
     "name": "stderr",
     "output_type": "stream",
     "text": [
      "<frozen importlib._bootstrap>:219: RuntimeWarning: scipy._lib.messagestream.MessageStream size changed, may indicate binary incompatibility. Expected 56 from C header, got 64 from PyObject\n"
     ]
    }
   ],
   "source": [
    "import pandas as pd\n",
    "import numpy as np\n",
    "import matplotlib.pyplot as plt\n",
    "import seaborn as sns\n",
    "from sklearn.metrics import roc_curve, roc_auc_score"
   ]
  },
  {
   "cell_type": "code",
   "execution_count": 2,
   "metadata": {},
   "outputs": [],
   "source": [
    "df=pd.read_csv('../data/holdout_results.csv')"
   ]
  },
  {
   "cell_type": "code",
   "execution_count": 3,
   "metadata": {},
   "outputs": [
    {
     "data": {
      "text/html": [
       "<div>\n",
       "<style scoped>\n",
       "    .dataframe tbody tr th:only-of-type {\n",
       "        vertical-align: middle;\n",
       "    }\n",
       "\n",
       "    .dataframe tbody tr th {\n",
       "        vertical-align: top;\n",
       "    }\n",
       "\n",
       "    .dataframe thead th {\n",
       "        text-align: right;\n",
       "    }\n",
       "</style>\n",
       "<table border=\"1\" class=\"dataframe\">\n",
       "  <thead>\n",
       "    <tr style=\"text-align: right;\">\n",
       "      <th></th>\n",
       "      <th>score</th>\n",
       "      <th>label</th>\n",
       "      <th>cohort</th>\n",
       "      <th>pred</th>\n",
       "    </tr>\n",
       "  </thead>\n",
       "  <tbody>\n",
       "    <tr>\n",
       "      <th>0</th>\n",
       "      <td>0.029353</td>\n",
       "      <td>0.0</td>\n",
       "      <td>TCGA</td>\n",
       "      <td>0</td>\n",
       "    </tr>\n",
       "    <tr>\n",
       "      <th>1</th>\n",
       "      <td>0.050943</td>\n",
       "      <td>0.0</td>\n",
       "      <td>TCGA</td>\n",
       "      <td>1</td>\n",
       "    </tr>\n",
       "    <tr>\n",
       "      <th>2</th>\n",
       "      <td>0.014300</td>\n",
       "      <td>0.0</td>\n",
       "      <td>TCGA</td>\n",
       "      <td>0</td>\n",
       "    </tr>\n",
       "    <tr>\n",
       "      <th>3</th>\n",
       "      <td>0.023140</td>\n",
       "      <td>0.0</td>\n",
       "      <td>TCGA</td>\n",
       "      <td>0</td>\n",
       "    </tr>\n",
       "    <tr>\n",
       "      <th>4</th>\n",
       "      <td>0.198863</td>\n",
       "      <td>0.0</td>\n",
       "      <td>TCGA</td>\n",
       "      <td>1</td>\n",
       "    </tr>\n",
       "    <tr>\n",
       "      <th>...</th>\n",
       "      <td>...</td>\n",
       "      <td>...</td>\n",
       "      <td>...</td>\n",
       "      <td>...</td>\n",
       "    </tr>\n",
       "    <tr>\n",
       "      <th>938</th>\n",
       "      <td>0.107994</td>\n",
       "      <td>0.0</td>\n",
       "      <td>PAN-Tumor Independent</td>\n",
       "      <td>1</td>\n",
       "    </tr>\n",
       "    <tr>\n",
       "      <th>939</th>\n",
       "      <td>0.066545</td>\n",
       "      <td>0.0</td>\n",
       "      <td>PAN-Tumor Independent</td>\n",
       "      <td>1</td>\n",
       "    </tr>\n",
       "    <tr>\n",
       "      <th>940</th>\n",
       "      <td>0.017529</td>\n",
       "      <td>0.0</td>\n",
       "      <td>PAN-Tumor Independent</td>\n",
       "      <td>0</td>\n",
       "    </tr>\n",
       "    <tr>\n",
       "      <th>941</th>\n",
       "      <td>0.621354</td>\n",
       "      <td>0.0</td>\n",
       "      <td>PAN-Tumor Independent</td>\n",
       "      <td>1</td>\n",
       "    </tr>\n",
       "    <tr>\n",
       "      <th>942</th>\n",
       "      <td>0.175133</td>\n",
       "      <td>0.0</td>\n",
       "      <td>PAN-Tumor Independent</td>\n",
       "      <td>1</td>\n",
       "    </tr>\n",
       "  </tbody>\n",
       "</table>\n",
       "<p>943 rows × 4 columns</p>\n",
       "</div>"
      ],
      "text/plain": [
       "        score  label                 cohort  pred\n",
       "0    0.029353    0.0                   TCGA     0\n",
       "1    0.050943    0.0                   TCGA     1\n",
       "2    0.014300    0.0                   TCGA     0\n",
       "3    0.023140    0.0                   TCGA     0\n",
       "4    0.198863    0.0                   TCGA     1\n",
       "..        ...    ...                    ...   ...\n",
       "938  0.107994    0.0  PAN-Tumor Independent     1\n",
       "939  0.066545    0.0  PAN-Tumor Independent     1\n",
       "940  0.017529    0.0  PAN-Tumor Independent     0\n",
       "941  0.621354    0.0  PAN-Tumor Independent     1\n",
       "942  0.175133    0.0  PAN-Tumor Independent     1\n",
       "\n",
       "[943 rows x 4 columns]"
      ]
     },
     "execution_count": 3,
     "metadata": {},
     "output_type": "execute_result"
    }
   ],
   "source": [
    "df"
   ]
  },
  {
   "cell_type": "code",
   "execution_count": 4,
   "metadata": {},
   "outputs": [
    {
     "data": {
      "text/plain": [
       "BLC3001                  420\n",
       "PAN-Tumor Independent    361\n",
       "BLC2002                   92\n",
       "TCGA                      70\n",
       "Name: cohort, dtype: int64"
      ]
     },
     "execution_count": 4,
     "metadata": {},
     "output_type": "execute_result"
    }
   ],
   "source": [
    "df=df[['cohort','label','score','pred']].reset_index(drop=True)\n",
    "df.cohort.value_counts()"
   ]
  },
  {
   "cell_type": "code",
   "execution_count": 26,
   "metadata": {},
   "outputs": [],
   "source": [
    "def auROC(quantile_df, cohort):\n",
    "    \n",
    "    fpr_qaunt, tpr_quant, thresholds_quant = roc_curve(y_true=quantile_df['label'], y_score=quantile_df['score'], drop_intermediate=False)\n",
    "    auc_plot_quant = roc_auc_score(y_true=quantile_df['label'], y_score=quantile_df['score'])\n",
    "    \n",
    "    if cohort=='ALL':\n",
    "        plt.plot(fpr_qaunt, tpr_quant, label='ROC', linewidth=2, linestyle='-')\n",
    "    elif cohort == \"PAN-Tumor Independent\":\n",
    "        plt.plot(fpr_qaunt, tpr_quant, label='ROC', linewidth=1.5, linestyle='-')\n",
    "    else:\n",
    "        plt.plot(fpr_qaunt, tpr_quant, label='ROC', linewidth=1.1, linestyle=':')\n",
    "    \n",
    "    plt.xlabel('FPR',fontsize=12)\n",
    "    plt.ylabel('TPR',fontsize=12)\n",
    "    print('Max AUC :', np.round(auc_plot_quant,4))\n",
    "    plt.title('ROC curves per CRO Site')\n",
    "    return auc_plot_quant"
   ]
  },
  {
   "cell_type": "code",
   "execution_count": 27,
   "metadata": {},
   "outputs": [],
   "source": [
    "cohorts = ['BLC3001', 'BLC2002', 'TCGA', 'PAN-Tumor Independent']"
   ]
  },
  {
   "cell_type": "code",
   "execution_count": 28,
   "metadata": {},
   "outputs": [
    {
     "name": "stdout",
     "output_type": "stream",
     "text": [
      "Max AUC : 0.7961\n",
      "Cohort name: BLC3001\n",
      "Cohort count: 420\n",
      "Max AUC : 0.7621\n",
      "Cohort name: BLC2002\n",
      "Cohort count: 92\n",
      "Max AUC : 0.7835\n",
      "Cohort name: TCGA\n",
      "Cohort count: 70\n",
      "Max AUC : 0.9819\n",
      "Cohort name: PAN-Tumor Independent\n",
      "Cohort count: 361\n",
      "Max AUC : 0.7481\n"
     ]
    },
    {
     "data": {
      "image/png": "[encoded data removed]",
      "text/plain": [
       "<Figure size 600x500 with 1 Axes>"
      ]
     },
     "metadata": {},
     "output_type": "display_data"
    }
   ],
   "source": [
    "sns.set_style(\"whitegrid\")\n",
    "fig = plt.figure(figsize=(6,5))\n",
    "auc_list = []\n",
    "auc_list.append(auROC(df[df.cohort!='PAN-Tumor Independent'].reset_index(drop=True), cohort='ALL'))\n",
    "cohort_count = []\n",
    "\n",
    "for itx, group in enumerate(cohorts):\n",
    "\n",
    "    print(\"Cohort name: \" + str(group))\n",
    "    tmp = df[(df['cohort'] == group)].reset_index(drop=True)\n",
    "    \n",
    "    cohort_count.append(tmp.shape[0])\n",
    "    print(\"Cohort count: \" + str(cohort_count[itx]))\n",
    "    auc_list.append(auROC(tmp,cohort=group))\n",
    "    \n",
    "plt.legend(['BLC3001+BLC2002+TCGA; (AUC=' + str(round(auc_list[0],2)) + ')' ,\n",
    "            'BLC3001; (AUC=' + str(round(auc_list[1],2)) + ')' ,\n",
    "            'BLC2002; (AUC=' + str(round(auc_list[2],2)) + ')' ,\n",
    "            'TCGA; (AUC=' + str(round(auc_list[3],2)) + ')' ,\n",
    "            'PAN-Tumor Independent; (AUC=' + str(round(auc_list[4],2)) + ')'], loc=4, prop={'size': 10})\n",
    "\n",
    "plt.title('ROC curves on Hold-out Data')\n",
    "fig.savefig('../figures/Fig2.png')"
   ]
  },
  {
   "cell_type": "code",
   "execution_count": 29,
   "metadata": {},
   "outputs": [],
   "source": [
    "def calculate_statistics(meta):\n",
    "        \n",
    "    sn = meta[(meta.pred==1) & (meta.label==1)].shape[0]/meta[meta.label==1].shape[0]\n",
    "    sp = meta[(meta.pred==0) & (meta.label==0)].shape[0]/meta[meta.label==0].shape[0]\n",
    "    \n",
    "    TP = meta[(meta.pred==1) & (meta.label==1)].shape[0]\n",
    "    TN = meta[(meta.pred==0) & (meta.label==0)].shape[0]\n",
    "    FP = meta[(meta.pred==1) & (meta.label==0)].shape[0]\n",
    "    FN = meta[(meta.pred==0) & (meta.label==1)].shape[0]\n",
    "    \n",
    "    SE_sn = np.sqrt((sn*(1-sn)/(TP+FN)))\n",
    "    SE_sp = np.sqrt((sp*(1-sp)/(FP+TN)))\n",
    "\n",
    "    CI_95_h = sn + 1.96*SE_sn\n",
    "    CI_95_l = sn - 1.96*SE_sn\n",
    "\n",
    "    print('Sensitivitiy: ' + str(round(sn,3)) + '; 95%CI=[' + str(round(CI_95_h,3)) + ', ' + str(round(CI_95_l,3)) + ']')\n",
    "    \n",
    "    CI_95_h = sp + 1.96*SE_sp\n",
    "    CI_95_l = sp - 1.96*SE_sp\n",
    "\n",
    "    print('Specificity: ' + str(round(sp,3)) + '; 95%CI=[' + str(round(CI_95_h,3)) + ', ' + str(round(CI_95_l,3)) + ']')\n",
    "    \n",
    "    red = meta[meta.pred==0].shape[0]/meta.shape[0]*100\n",
    "\n",
    "    print('Reduction: ' + str(round(red)) + '% - Spec: ' + str(round(sp*100)) + '% - Sens: ' + str(round(sn*100)) + '%')"
   ]
  },
  {
   "cell_type": "code",
   "execution_count": 30,
   "metadata": {},
   "outputs": [
    {
     "name": "stdout",
     "output_type": "stream",
     "text": [
      "Sensitivitiy: 0.943; 95%CI=[0.987, 0.899]\n",
      "Specificity: 0.335; 95%CI=[0.366, 0.303]\n",
      "Reduction: 30% - Spec: 33% - Sens: 94%\n"
     ]
    }
   ],
   "source": [
    "calculate_statistics(df)"
   ]
  },
  {
   "cell_type": "code",
   "execution_count": 31,
   "metadata": {},
   "outputs": [
    {
     "name": "stdout",
     "output_type": "stream",
     "text": [
      "Sensitivitiy: 0.918; 95%CI=[0.995, 0.842]\n",
      "Specificity: 0.377; 95%CI=[0.427, 0.328]\n",
      "Reduction: 34% - Spec: 38% - Sens: 92%\n"
     ]
    }
   ],
   "source": [
    "calculate_statistics(df[df.cohort=='BLC3001'].reset_index(drop=True))"
   ]
  },
  {
   "cell_type": "code",
   "execution_count": 32,
   "metadata": {},
   "outputs": [
    {
     "name": "stdout",
     "output_type": "stream",
     "text": [
      "Sensitivitiy: 1.0; 95%CI=[1.0, 1.0]\n",
      "Specificity: 0.476; 95%CI=[0.6, 0.353]\n",
      "Reduction: 43% - Spec: 48% - Sens: 100%\n"
     ]
    }
   ],
   "source": [
    "calculate_statistics(df[df.cohort=='TCGA'].reset_index(drop=True))"
   ]
  },
  {
   "cell_type": "code",
   "execution_count": 33,
   "metadata": {},
   "outputs": [
    {
     "name": "stdout",
     "output_type": "stream",
     "text": [
      "Sensitivitiy: 1.0; 95%CI=[1.0, 1.0]\n",
      "Specificity: 0.286; 95%CI=[0.387, 0.185]\n",
      "Reduction: 24% - Spec: 29% - Sens: 100%\n"
     ]
    }
   ],
   "source": [
    "calculate_statistics(df[df.cohort=='BLC2002'].reset_index(drop=True))"
   ]
  },
  {
   "cell_type": "code",
   "execution_count": null,
   "metadata": {},
   "outputs": [],
   "source": []
  },
  {
   "cell_type": "code",
   "execution_count": null,
   "metadata": {},
   "outputs": [],
   "source": []
  }
 ],
 "metadata": {
  "kernelspec": {
   "display_name": "Python 3 (ipykernel)",
   "language": "python",
   "name": "python3"
  },
  "language_info": {
   "codemirror_mode": {
    "name": "ipython",
    "version": 3
   },
   "file_extension": ".py",
   "mimetype": "text/x-python",
   "name": "python",
   "nbconvert_exporter": "python",
   "pygments_lexer": "ipython3",
   "version": "3.8.8"
  }
 },
 "nbformat": 4,
 "nbformat_minor": 4
}
